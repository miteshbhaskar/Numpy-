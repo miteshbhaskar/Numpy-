{
 "cells": [
  {
   "cell_type": "code",
   "execution_count": 2,
   "id": "7b55a692",
   "metadata": {},
   "outputs": [],
   "source": [
    "import numpy as np\n",
    "import pandas as pd"
   ]
  },
  {
   "cell_type": "code",
   "execution_count": 3,
   "id": "265b0cfd",
   "metadata": {},
   "outputs": [
    {
     "name": "stdout",
     "output_type": "stream",
     "text": [
      "[]\n",
      "[[1 1 1 1]\n",
      " [1 1 1 1]\n",
      " [1 1 1 1]]\n"
     ]
    }
   ],
   "source": [
    "# How to create an Empty and Full numpy array\n",
    "# Empty\n",
    "l1=[]\n",
    "arr1=np.array(l1)\n",
    "print(arr1)\n",
    "\n",
    "# Full\n",
    "arr2 = np.full([3,4],1)\n",
    "print(arr2)\n",
    "\n",
    "# Explanation :-\n",
    "# An empty array is an array that has no value or is null.\n",
    "# We can use the empty array later to append the values or modify them."
   ]
  },
  {
   "cell_type": "code",
   "execution_count": 4,
   "id": "8a2e3438",
   "metadata": {},
   "outputs": [
    {
     "name": "stdout",
     "output_type": "stream",
     "text": [
      "[[0. 0. 0. 0.]\n",
      " [0. 0. 0. 0.]\n",
      " [0. 0. 0. 0.]]\n"
     ]
    }
   ],
   "source": [
    "# Create numpy array filled with all Zeros\n",
    "arr3=np.zeros([3,4])\n",
    "print(arr3)\n",
    "\n",
    "# Explanation:-\n",
    "# The numpy.zeros() function returns a new array of given shape and type, with zeros."
   ]
  },
  {
   "cell_type": "code",
   "execution_count": 5,
   "id": "b570d086",
   "metadata": {},
   "outputs": [
    {
     "name": "stdout",
     "output_type": "stream",
     "text": [
      "[[1. 1. 1. 1. 1.]\n",
      " [1. 1. 1. 1. 1.]\n",
      " [1. 1. 1. 1. 1.]\n",
      " [1. 1. 1. 1. 1.]]\n"
     ]
    }
   ],
   "source": [
    "# Create numpy array filled with all Ones\n",
    "arr4 = np.ones([4,5])\n",
    "print(arr4)\n",
    "\n",
    "# Explanation:-\n",
    "# ones() function returns a new array of given shape and data type, where the element's value is set to 1.\n",
    "# This function is very similar to numpy zeros() function."
   ]
  },
  {
   "cell_type": "code",
   "execution_count": 6,
   "id": "96bee981",
   "metadata": {},
   "outputs": [
    {
     "name": "stdout",
     "output_type": "stream",
     "text": [
      "False\n",
      "True\n"
     ]
    }
   ],
   "source": [
    "# Check whether a numpy Array contains specified rows\n",
    "a1=[  [1,2,3],\n",
    "      [4,5,6],\n",
    "      [7,8,9]]\n",
    "arr6=np.array(a1)\n",
    "lst=[4,5,7]\n",
    "lst1=[4,5,6]\n",
    "\n",
    "print(lst in  arr6.tolist())\n",
    "print(lst1 in  arr6.tolist())\n",
    "# Explanation:-\n",
    "# If the given list is present in a NumPy array as a row then the output is True else False.\n",
    "# The list is present in a NumPy array means any row of that numpy array matches with the given \n",
    "# list with all elements in given order"
   ]
  },
  {
   "cell_type": "code",
   "execution_count": 7,
   "id": "28081479",
   "metadata": {},
   "outputs": [
    {
     "name": "stdout",
     "output_type": "stream",
     "text": [
      "[[ 1.  2.  3.]\n",
      " [ 4. nan  5.]\n",
      " [ 6.  7. nan]\n",
      " [ 7.  2.  5.]\n",
      " [ 8.  9. nan]]\n"
     ]
    },
    {
     "data": {
      "text/plain": [
       "array([[1., 2., 3.],\n",
       "       [7., 2., 5.]])"
      ]
     },
     "execution_count": 7,
     "metadata": {},
     "output_type": "execute_result"
    }
   ],
   "source": [
    "# How to remove non-numeric rows from numpy array\n",
    "arr9=np.array([[1,2,3],\n",
    "              [4,np.nan,5],\n",
    "              [6,7,np.nan],\n",
    "              [7,2,5],\n",
    "              [8,9,np.nan]])\n",
    "print(arr9)\n",
    "arr9[np.all(~np.isnan(arr9),axis=1)]\n",
    "\n",
    "# axis 1=Row wise, 0=Column wise in whole array\n",
    "\n",
    "# Explanation :- \n",
    "# Many times we have non-numeric values in NumPy array. These values need to be removed, so that array\n",
    "# will be free from all these unnecessary values and look more decent. \n",
    "# It is possible to remove all rows containing Nan values using the Bitwise NOT operator and np. isnan() function."
   ]
  },
  {
   "cell_type": "code",
   "execution_count": 8,
   "id": "a7885743",
   "metadata": {},
   "outputs": [
    {
     "data": {
      "text/plain": [
       "array([0, 1, 2])"
      ]
     },
     "execution_count": 8,
     "metadata": {},
     "output_type": "execute_result"
    }
   ],
   "source": [
    "# remove a single-dimentional entries from shape of an array\n",
    "arr7=np.array(\n",
    "    [[[0],\n",
    "     [1],\n",
    "     [2]]]\n",
    ")\n",
    "arr8=np.squeeze(arr7)\n",
    "arr8\n",
    "\n",
    "# Explanation :-\n",
    "# squeeze() function is used to remove single-dimensional entries from the shape of an array. \n",
    "# It returns an array with the same data but reshaped dimensions. \n",
    "# This function can be used to reduce the dimensions of an array, \n",
    "# which is useful for data preprocessing in machine learning applications."
   ]
  },
  {
   "cell_type": "code",
   "execution_count": 23,
   "id": "de4a6901",
   "metadata": {},
   "outputs": [
    {
     "data": {
      "text/plain": [
       "3"
      ]
     },
     "execution_count": 23,
     "metadata": {},
     "output_type": "execute_result"
    }
   ],
   "source": [
    "# Find the number of accurences of a sequence in numpy array \n",
    "arrr1=np.array([1,2,3,4,5,3,4,6,7,3,4])\n",
    "\n",
    "repr(arrr1).count(\"3, 4\")\n"
   ]
  },
  {
   "cell_type": "code",
   "execution_count": 47,
   "id": "35d67a8f",
   "metadata": {},
   "outputs": [
    {
     "name": "stdout",
     "output_type": "stream",
     "text": [
      "6\n"
     ]
    }
   ],
   "source": [
    "# Find the most frequent value in numpy array \n",
    "arr10=np.array([1,2,2,6,4,5,6,6,6,7,8,9,9,9,0,11,12,33,44,44,44,0])\n",
    "mode=np.bincount(arr10)\n",
    "mode1=np.argmax(mode)\n",
    "print(mode1)\n",
    "\n",
    "# Explanation :- \n",
    "# in above .bincount() function is used to count the occurence of each element in array\n",
    "# .argmax() mathod to get a value having a maximum value of occurence(Frequency)"
   ]
  },
  {
   "cell_type": "code",
   "execution_count": 72,
   "id": "f3256473",
   "metadata": {},
   "outputs": [
    {
     "data": {
      "text/plain": [
       "array([[ 1,  2,  3,  4],\n",
       "       [11, 22, 33, 44],\n",
       "       [69, 68, 67, 44]])"
      ]
     },
     "execution_count": 72,
     "metadata": {},
     "output_type": "execute_result"
    }
   ],
   "source": [
    "# Combining a one and two-dimensional numpy array\n",
    "ar1=np.array([[1,2,3,4],\n",
    "              [11,22,33,44]])\n",
    "ar2=np.array([69,68,67,44])\n",
    "\n",
    "ar1.shape\n",
    "ar2=ar2.reshape(1,4)\n",
    "\n",
    "ar3=np.concatenate((ar1,ar2),axis=0)\n",
    "ar3\n",
    "\n",
    "# Explanation :- \n",
    "# First thing we have to get the shape of all array and then we have to reshape by same dimensions\n",
    "# after that we can use .concatenate() function to combine two arrays."
   ]
  },
  {
   "cell_type": "code",
   "execution_count": 91,
   "id": "3caf93fd",
   "metadata": {},
   "outputs": [
    {
     "name": "stdout",
     "output_type": "stream",
     "text": [
      "[[1 5]\n",
      " [1 6]\n",
      " [2 5]\n",
      " [2 6]]\n"
     ]
    }
   ],
   "source": [
    "# How to build an array of all combinations of two Numpy arrays?\n",
    "\n",
    "arr12=np.array([1,2])\n",
    "arr13=np.array([5,6])\n",
    "\n",
    "arr14=np.array(np.meshgrid(arr12,arr13)).T.reshape(-1, 2)\n",
    "print(arr14)"
   ]
  },
  {
   "cell_type": "markdown",
   "id": "36dc48d9",
   "metadata": {},
   "source": [
    "# Numpy\n",
    "## Functions\n",
    "\n",
    "NumPy is a general-purpose array-processing package. It provides a high-performance multidimensional array object and tools for working with these arrays.\n",
    "\n",
    "###### numpy.partition()\n",
    "###### numpy.argmax()\n",
    "###### numpy.extract()\n",
    "###### numpy.eye()\n",
    "###### numpy.T"
   ]
  },
  {
   "cell_type": "markdown",
   "id": "37a9f08d",
   "metadata": {},
   "source": [
    "# 1. Function = np.partition()"
   ]
  },
  {
   "cell_type": "code",
   "execution_count": 56,
   "id": "9b54d6cc",
   "metadata": {},
   "outputs": [
    {
     "name": "stdout",
     "output_type": "stream",
     "text": [
      "[1 0 2 2 2 3 5 4]\n"
     ]
    }
   ],
   "source": [
    "fn1 = np.array([1,2,5,3,0,2,2,4])\n",
    "part=np.partition(fn1,3)\n",
    "print(part)"
   ]
  },
  {
   "cell_type": "markdown",
   "id": "7b0c69fb",
   "metadata": {},
   "source": [
    "numpy.partition() function is used to create a partitioned copy of input array with its elements rearranged in such a way that the value of the element in k-th position is in the position it would be in a sorted array. All elements smaller than the k-th element are moved before this element and all equal or greater are moved behind it. The ordering of the elements in the two partitions is undefined."
   ]
  },
  {
   "cell_type": "markdown",
   "id": "5e054f33",
   "metadata": {},
   "source": [
    "# 2. Function = np.argmax()"
   ]
  },
  {
   "cell_type": "code",
   "execution_count": 63,
   "id": "7394b30b",
   "metadata": {},
   "outputs": [
    {
     "name": "stdout",
     "output_type": "stream",
     "text": [
      "4\n"
     ]
    }
   ],
   "source": [
    "fn2=np.array([1,3,4,6,8,2,4,4,4,4,4])\n",
    "arg= np.bincount(fn2)\n",
    "ans = np.argmax(arg)\n",
    "print(ans)"
   ]
  },
  {
   "cell_type": "markdown",
   "id": "90c95601",
   "metadata": {},
   "source": [
    "Explanation :- \n",
    "in above .bincount() function is used to count the occurence of each element in array\n",
    ".argmax() mathod to get a value having a maximum value of occurence(Frequency)"
   ]
  },
  {
   "cell_type": "markdown",
   "id": "0eed3ac1",
   "metadata": {},
   "source": [
    "# 3. Function=np.extract()"
   ]
  },
  {
   "cell_type": "code",
   "execution_count": 68,
   "id": "045cd723",
   "metadata": {},
   "outputs": [
    {
     "name": "stdout",
     "output_type": "stream",
     "text": [
      "odd [ 3  5  7 33 55]\n"
     ]
    }
   ],
   "source": [
    "fn3 = np.array([2,3,4,5,6,7,33,44,55,50,10])\n",
    "# condition= fn3[fn3%2==0]\n",
    "condition= np.mod(fn3,2)!=0\n",
    "ans = np.extract(condition,fn3)\n",
    "print('odd',ans)"
   ]
  },
  {
   "cell_type": "markdown",
   "id": "853acb8c",
   "metadata": {},
   "source": [
    "extract. Return the elements of an array that satisfy some condition. This is equivalent to np."
   ]
  },
  {
   "cell_type": "markdown",
   "id": "a7543e6e",
   "metadata": {},
   "source": [
    "# 4. Function = np.eye()"
   ]
  },
  {
   "cell_type": "code",
   "execution_count": 85,
   "id": "776bf0e8",
   "metadata": {},
   "outputs": [
    {
     "data": {
      "text/plain": [
       "array([[0., 0., 1., 0.],\n",
       "       [0., 0., 0., 1.],\n",
       "       [0., 0., 0., 0.],\n",
       "       [0., 0., 0., 0.]])"
      ]
     },
     "execution_count": 85,
     "metadata": {},
     "output_type": "execute_result"
    }
   ],
   "source": [
    "fn4= np.eye(4,k=2)\n",
    "fn4"
   ]
  },
  {
   "cell_type": "markdown",
   "id": "66e854b0",
   "metadata": {},
   "source": [
    "Return a 2-D array with ones on the diagonal and zeros elsewhere."
   ]
  },
  {
   "cell_type": "markdown",
   "id": "2c5a1a77",
   "metadata": {},
   "source": [
    "# 5. Function = np.T"
   ]
  },
  {
   "cell_type": "code",
   "execution_count": 97,
   "id": "52d04720",
   "metadata": {},
   "outputs": [
    {
     "name": "stdout",
     "output_type": "stream",
     "text": [
      "[[ 1  5]\n",
      " [ 9  2]\n",
      " [ 6 10]\n",
      " [ 3  7]\n",
      " [11  4]\n",
      " [ 8 12]]\n",
      "[[ 1  5  9]\n",
      " [ 2  6 10]\n",
      " [ 3  7 11]\n",
      " [ 4  8 12]]\n"
     ]
    }
   ],
   "source": [
    "fn5 = np.arange(1,13,1)\n",
    "fn5=fn5.reshape(3,4)\n",
    "ans1=fn5.T.reshape(-1,2)\n",
    "ans=fn5.T\n",
    "print(ans1)\n",
    "print(ans)"
   ]
  },
  {
   "cell_type": "markdown",
   "id": "30408130",
   "metadata": {},
   "source": [
    "The . T attribute returns the transpose of a NumPy array as a new NumPy array without modifying the original array."
   ]
  }
 ],
 "metadata": {
  "kernelspec": {
   "display_name": "Python 3 (ipykernel)",
   "language": "python",
   "name": "python3"
  },
  "language_info": {
   "codemirror_mode": {
    "name": "ipython",
    "version": 3
   },
   "file_extension": ".py",
   "mimetype": "text/x-python",
   "name": "python",
   "nbconvert_exporter": "python",
   "pygments_lexer": "ipython3",
   "version": "3.9.13"
  }
 },
 "nbformat": 4,
 "nbformat_minor": 5
}
